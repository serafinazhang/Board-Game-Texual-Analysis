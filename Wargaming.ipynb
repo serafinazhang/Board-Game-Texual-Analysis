{
  "nbformat": 4,
  "nbformat_minor": 0,
  "metadata": {
    "colab": {
      "name": "Wargaming.ipynb",
      "provenance": [],
      "collapsed_sections": [],
      "authorship_tag": "ABX9TyPhtwU89z6UcOYw9zZ5ECrh",
      "include_colab_link": true
    },
    "kernelspec": {
      "name": "python3",
      "display_name": "Python 3"
    },
    "language_info": {
      "name": "python"
    },
    "accelerator": "GPU"
  },
  "cells": [
    {
      "cell_type": "markdown",
      "metadata": {
        "id": "view-in-github",
        "colab_type": "text"
      },
      "source": [
        "<a href=\"https://colab.research.google.com/github/serafinazhang/Board-Game-Analysis/blob/main/Wargaming.ipynb\" target=\"_parent\"><img src=\"https://colab.research.google.com/assets/colab-badge.svg\" alt=\"Open In Colab\"/></a>"
      ]
    },
    {
      "cell_type": "markdown",
      "metadata": {
        "id": "RN9VLUYNsDmL"
      },
      "source": [
        "# **Textual Analysis on War Games**\n",
        "\n",
        "Junqian Zhang 张俊倩"
      ]
    },
    {
      "cell_type": "code",
      "metadata": {
        "id": "FJU1efBVdOPg"
      },
      "source": [
        "import pandas as pd\n",
        "import numpy as np\n",
        "from collections import defaultdict, Counter\n",
        "import matplotlib.pyplot as plt \n",
        "from google.colab import files, drive"
      ],
      "execution_count": 2,
      "outputs": []
    },
    {
      "cell_type": "code",
      "metadata": {
        "colab": {
          "base_uri": "https://localhost:8080/"
        },
        "id": "-2eOadv7esnY",
        "outputId": "5f0c7995-eff6-48f0-8338-8089fee22a81"
      },
      "source": [
        "drive.mount('/content/drive')"
      ],
      "execution_count": 3,
      "outputs": [
        {
          "output_type": "stream",
          "name": "stdout",
          "text": [
            "Mounted at /content/drive\n"
          ]
        }
      ]
    },
    {
      "cell_type": "markdown",
      "metadata": {
        "id": "I5auRakisM5-"
      },
      "source": [
        "# 1. Data Loading"
      ]
    },
    {
      "cell_type": "code",
      "metadata": {
        "colab": {
          "base_uri": "https://localhost:8080/"
        },
        "id": "dtxGbCviNdwA",
        "outputId": "12747aeb-8b42-4b74-a424-c9b70d7f37c7"
      },
      "source": [
        "!pip install xmltodict"
      ],
      "execution_count": 21,
      "outputs": [
        {
          "output_type": "stream",
          "name": "stdout",
          "text": [
            "Collecting xmltodict\n",
            "  Downloading xmltodict-0.12.0-py2.py3-none-any.whl (9.2 kB)\n",
            "Installing collected packages: xmltodict\n",
            "Successfully installed xmltodict-0.12.0\n"
          ]
        }
      ]
    },
    {
      "cell_type": "code",
      "metadata": {
        "id": "FKp5DrdzlBnQ"
      },
      "source": [
        " import time\n",
        " import requests\n",
        " import xml.dom.minidom\n",
        " import xml.etree.ElementTree as ET\n",
        " import xmltodict"
      ],
      "execution_count": 22,
      "outputs": []
    },
    {
      "cell_type": "code",
      "metadata": {
        "id": "8zVmoVhI7Zjh"
      },
      "source": [
        "meta = pd.read_csv('https://raw.githubusercontent.com/beefsack/bgg-ranking-historicals/master/2019-08-28.csv')\n",
        "id = list(meta['ID'])"
      ],
      "execution_count": 23,
      "outputs": []
    },
    {
      "cell_type": "code",
      "metadata": {
        "id": "flSA8l6MM44f"
      },
      "source": [
        "def get_dict(index):\n",
        "  root_p = 'https://www.boardgamegeek.com/xmlapi2/thing?id='\n",
        "  url = root_p + str(id[index]) + '&stats=1&pagesize=100'\n",
        "  r = requests.get(url)\n",
        "  dict_data = xmltodict.parse(r.content)\n",
        "  return dict_data"
      ],
      "execution_count": 24,
      "outputs": []
    },
    {
      "cell_type": "code",
      "metadata": {
        "id": "Z-wk3WlxHRUr"
      },
      "source": [
        "def get_link(dict_data):\n",
        "  link = defaultdict(list)\n",
        "  for i in dict_data['items']['item']['link']:\n",
        "    for k,v in i.items():\n",
        "      link[k].append(v)\n",
        "  return link"
      ],
      "execution_count": 25,
      "outputs": []
    },
    {
      "cell_type": "code",
      "metadata": {
        "id": "whi5aMSKHwmy"
      },
      "source": [
        "def get_description(dict_data):\n",
        "  description = dict_data['items']['item']['description']\n",
        "  return description"
      ],
      "execution_count": null,
      "outputs": []
    },
    {
      "cell_type": "code",
      "metadata": {
        "id": "vSV_cLsmIH7N"
      },
      "source": [
        "def get_stats(dict_data):\n",
        "  rating = pd.DataFrame(dict_data['items']['item']['statistics']['ratings'])\n",
        "  try:\n",
        "    rating['ranks']['@value'] = dict_data['items']['item']['statistics']['ratings']['ranks']['rank'][0]['@value']\n",
        "  except KeyError:\n",
        "    rating['ranks']['@value'] = dict_data['items']['item']['statistics']['ratings']['ranks']['rank']['@value']\n",
        "  rating = rating.drop('rank', axis=0)\n",
        "  return rating"
      ],
      "execution_count": null,
      "outputs": []
    },
    {
      "cell_type": "markdown",
      "metadata": {
        "id": "32lCAwMeUgpm"
      },
      "source": [
        "no 10353，11981, 12325, 12707, 15117， 15872, 16332, 16698, 16721"
      ]
    },
    {
      "cell_type": "code",
      "metadata": {
        "colab": {
          "base_uri": "https://localhost:8080/"
        },
        "collapsed": true,
        "id": "GBAIAspa8r6G",
        "outputId": "b065a767-ff17-472b-e3b3-ba00b7cc9ad6"
      },
      "source": [
        "for i in range(16722, len(id)):\n",
        "  root_p = 'https://www.boardgamegeek.com/xmlapi2/thing?id='\n",
        "  url = root_p + str(id[i]) + '&stats=1&pagesize=100'\n",
        "  r = requests.get(url)\n",
        "  while r.status_code != 200:\n",
        "    time.sleep(1)\n",
        "    r = requests.get(url)\n",
        "  dict_data = xmltodict.parse(r.content)\n",
        "  full['description'].append(get_description(dict_data))\n",
        "  full['category'].append(get_link(dict_data)['@id'])\n",
        "  full['id'].append(id[i])\n",
        "  stats = get_stats(dict_data)\n",
        "  full['stats'].append(stats.values)\n",
        "  print(i)"
      ],
      "execution_count": null,
      "outputs": [
        {
          "output_type": "stream",
          "name": "stdout",
          "text": [
            "16722\n",
            "16723\n",
            "16724\n",
            "16725\n",
            "16726\n",
            "16727\n",
            "16728\n",
            "16729\n",
            "16730\n",
            "16731\n",
            "16732\n",
            "16733\n",
            "16734\n",
            "16735\n",
            "16736\n",
            "16737\n",
            "16738\n",
            "16739\n",
            "16740\n",
            "16741\n",
            "16742\n",
            "16743\n",
            "16744\n",
            "16745\n",
            "16746\n",
            "16747\n",
            "16748\n",
            "16749\n",
            "16750\n",
            "16751\n",
            "16752\n",
            "16753\n",
            "16754\n",
            "16755\n",
            "16756\n",
            "16757\n",
            "16758\n",
            "16759\n",
            "16760\n",
            "16761\n",
            "16762\n",
            "16763\n",
            "16764\n",
            "16765\n",
            "16766\n",
            "16767\n",
            "16768\n",
            "16769\n",
            "16770\n",
            "16771\n",
            "16772\n",
            "16773\n",
            "16774\n",
            "16775\n",
            "16776\n",
            "16777\n",
            "16778\n",
            "16779\n",
            "16780\n",
            "16781\n",
            "16782\n",
            "16783\n",
            "16784\n",
            "16785\n",
            "16786\n",
            "16787\n",
            "16788\n",
            "16789\n",
            "16790\n",
            "16791\n",
            "16792\n",
            "16793\n",
            "16794\n",
            "16795\n",
            "16796\n",
            "16797\n",
            "16798\n",
            "16799\n",
            "16800\n",
            "16801\n",
            "16802\n",
            "16803\n",
            "16804\n",
            "16805\n",
            "16806\n",
            "16807\n",
            "16808\n",
            "16809\n",
            "16810\n",
            "16811\n",
            "16812\n",
            "16813\n",
            "16814\n",
            "16815\n",
            "16816\n",
            "16817\n",
            "16818\n",
            "16819\n",
            "16820\n",
            "16821\n",
            "16822\n",
            "16823\n",
            "16824\n",
            "16825\n",
            "16826\n",
            "16827\n",
            "16828\n",
            "16829\n",
            "16830\n",
            "16831\n",
            "16832\n",
            "16833\n",
            "16834\n",
            "16835\n",
            "16836\n",
            "16837\n",
            "16838\n",
            "16839\n",
            "16840\n",
            "16841\n",
            "16842\n",
            "16843\n",
            "16844\n",
            "16845\n",
            "16846\n",
            "16847\n",
            "16848\n",
            "16849\n",
            "16850\n",
            "16851\n",
            "16852\n",
            "16853\n",
            "16854\n",
            "16855\n",
            "16856\n",
            "16857\n",
            "16858\n",
            "16859\n",
            "16860\n",
            "16861\n",
            "16862\n",
            "16863\n",
            "16864\n",
            "16865\n",
            "16866\n",
            "16867\n",
            "16868\n",
            "16869\n",
            "16870\n",
            "16871\n",
            "16872\n",
            "16873\n",
            "16874\n",
            "16875\n",
            "16876\n",
            "16877\n",
            "16878\n",
            "16879\n",
            "16880\n",
            "16881\n",
            "16882\n",
            "16883\n",
            "16884\n",
            "16885\n",
            "16886\n",
            "16887\n",
            "16888\n",
            "16889\n",
            "16890\n",
            "16891\n",
            "16892\n",
            "16893\n",
            "16894\n",
            "16895\n",
            "16896\n",
            "16897\n",
            "16898\n",
            "16899\n",
            "16900\n",
            "16901\n",
            "16902\n",
            "16903\n",
            "16904\n",
            "16905\n",
            "16906\n",
            "16907\n",
            "16908\n",
            "16909\n",
            "16910\n",
            "16911\n",
            "16912\n",
            "16913\n",
            "16914\n",
            "16915\n",
            "16916\n",
            "16917\n",
            "16918\n",
            "16919\n",
            "16920\n",
            "16921\n",
            "16922\n",
            "16923\n",
            "16924\n",
            "16925\n",
            "16926\n",
            "16927\n",
            "16928\n",
            "16929\n",
            "16930\n",
            "16931\n",
            "16932\n",
            "16933\n",
            "16934\n",
            "16935\n",
            "16936\n",
            "16937\n",
            "16938\n",
            "16939\n",
            "16940\n",
            "16941\n",
            "16942\n",
            "16943\n",
            "16944\n",
            "16945\n",
            "16946\n",
            "16947\n",
            "16948\n",
            "16949\n",
            "16950\n",
            "16951\n",
            "16952\n",
            "16953\n",
            "16954\n",
            "16955\n",
            "16956\n",
            "16957\n",
            "16958\n",
            "16959\n",
            "16960\n",
            "16961\n",
            "16962\n",
            "16963\n",
            "16964\n",
            "16965\n",
            "16966\n",
            "16967\n",
            "16968\n",
            "16969\n",
            "16970\n",
            "16971\n",
            "16972\n",
            "16973\n",
            "16974\n",
            "16975\n",
            "16976\n",
            "16977\n",
            "16978\n",
            "16979\n",
            "16980\n",
            "16981\n",
            "16982\n",
            "16983\n",
            "16984\n",
            "16985\n",
            "16986\n",
            "16987\n",
            "16988\n",
            "16989\n",
            "16990\n",
            "16991\n",
            "16992\n",
            "16993\n",
            "16994\n",
            "16995\n",
            "16996\n",
            "16997\n",
            "16998\n",
            "16999\n",
            "17000\n",
            "17001\n",
            "17002\n",
            "17003\n",
            "17004\n",
            "17005\n",
            "17006\n",
            "17007\n",
            "17008\n",
            "17009\n",
            "17010\n",
            "17011\n",
            "17012\n",
            "17013\n",
            "17014\n",
            "17015\n",
            "17016\n",
            "17017\n",
            "17018\n",
            "17019\n",
            "17020\n",
            "17021\n",
            "17022\n",
            "17023\n",
            "17024\n",
            "17025\n",
            "17026\n",
            "17027\n",
            "17028\n",
            "17029\n",
            "17030\n",
            "17031\n",
            "17032\n",
            "17033\n",
            "17034\n",
            "17035\n",
            "17036\n",
            "17037\n",
            "17038\n",
            "17039\n",
            "17040\n",
            "17041\n",
            "17042\n",
            "17043\n",
            "17044\n",
            "17045\n",
            "17046\n",
            "17047\n",
            "17048\n",
            "17049\n",
            "17050\n",
            "17051\n",
            "17052\n",
            "17053\n",
            "17054\n",
            "17055\n",
            "17056\n",
            "17057\n",
            "17058\n",
            "17059\n",
            "17060\n",
            "17061\n",
            "17062\n",
            "17063\n",
            "17064\n",
            "17065\n",
            "17066\n",
            "17067\n",
            "17068\n",
            "17069\n",
            "17070\n",
            "17071\n",
            "17072\n",
            "17073\n",
            "17074\n",
            "17075\n",
            "17076\n",
            "17077\n",
            "17078\n",
            "17079\n",
            "17080\n",
            "17081\n",
            "17082\n",
            "17083\n",
            "17084\n",
            "17085\n",
            "17086\n",
            "17087\n",
            "17088\n",
            "17089\n",
            "17090\n",
            "17091\n",
            "17092\n",
            "17093\n",
            "17094\n",
            "17095\n",
            "17096\n",
            "17097\n",
            "17098\n",
            "17099\n",
            "17100\n",
            "17101\n",
            "17102\n",
            "17103\n",
            "17104\n",
            "17105\n",
            "17106\n",
            "17107\n",
            "17108\n",
            "17109\n",
            "17110\n",
            "17111\n",
            "17112\n",
            "17113\n",
            "17114\n",
            "17115\n",
            "17116\n",
            "17117\n",
            "17118\n",
            "17119\n",
            "17120\n",
            "17121\n",
            "17122\n",
            "17123\n",
            "17124\n",
            "17125\n",
            "17126\n",
            "17127\n",
            "17128\n",
            "17129\n",
            "17130\n",
            "17131\n",
            "17132\n",
            "17133\n",
            "17134\n",
            "17135\n",
            "17136\n",
            "17137\n",
            "17138\n",
            "17139\n",
            "17140\n",
            "17141\n",
            "17142\n",
            "17143\n",
            "17144\n",
            "17145\n",
            "17146\n",
            "17147\n",
            "17148\n",
            "17149\n",
            "17150\n",
            "17151\n",
            "17152\n",
            "17153\n",
            "17154\n",
            "17155\n",
            "17156\n",
            "17157\n",
            "17158\n",
            "17159\n",
            "17160\n",
            "17161\n",
            "17162\n",
            "17163\n",
            "17164\n",
            "17165\n",
            "17166\n",
            "17167\n",
            "17168\n",
            "17169\n",
            "17170\n",
            "17171\n",
            "17172\n",
            "17173\n",
            "17174\n",
            "17175\n",
            "17176\n",
            "17177\n",
            "17178\n",
            "17179\n",
            "17180\n",
            "17181\n",
            "17182\n",
            "17183\n",
            "17184\n",
            "17185\n",
            "17186\n",
            "17187\n",
            "17188\n",
            "17189\n",
            "17190\n",
            "17191\n",
            "17192\n",
            "17193\n",
            "17194\n",
            "17195\n",
            "17196\n",
            "17197\n",
            "17198\n",
            "17199\n",
            "17200\n",
            "17201\n",
            "17202\n",
            "17203\n",
            "17204\n",
            "17205\n",
            "17206\n",
            "17207\n",
            "17208\n",
            "17209\n",
            "17210\n",
            "17211\n",
            "17212\n",
            "17213\n",
            "17214\n",
            "17215\n",
            "17216\n",
            "17217\n",
            "17218\n",
            "17219\n",
            "17220\n",
            "17221\n",
            "17222\n",
            "17223\n",
            "17224\n",
            "17225\n",
            "17226\n",
            "17227\n",
            "17228\n",
            "17229\n",
            "17230\n",
            "17231\n",
            "17232\n",
            "17233\n",
            "17234\n",
            "17235\n",
            "17236\n",
            "17237\n",
            "17238\n",
            "17239\n",
            "17240\n",
            "17241\n",
            "17242\n",
            "17243\n",
            "17244\n",
            "17245\n",
            "17246\n",
            "17247\n",
            "17248\n",
            "17249\n",
            "17250\n",
            "17251\n",
            "17252\n",
            "17253\n",
            "17254\n",
            "17255\n",
            "17256\n",
            "17257\n",
            "17258\n",
            "17259\n",
            "17260\n",
            "17261\n",
            "17262\n",
            "17263\n",
            "17264\n",
            "17265\n",
            "17266\n",
            "17267\n",
            "17268\n",
            "17269\n",
            "17270\n",
            "17271\n",
            "17272\n",
            "17273\n",
            "17274\n",
            "17275\n",
            "17276\n",
            "17277\n",
            "17278\n",
            "17279\n",
            "17280\n",
            "17281\n",
            "17282\n",
            "17283\n",
            "17284\n",
            "17285\n",
            "17286\n",
            "17287\n",
            "17288\n",
            "17289\n",
            "17290\n",
            "17291\n",
            "17292\n",
            "17293\n",
            "17294\n",
            "17295\n",
            "17296\n",
            "17297\n",
            "17298\n",
            "17299\n",
            "17300\n",
            "17301\n",
            "17302\n",
            "17303\n",
            "17304\n",
            "17305\n",
            "17306\n",
            "17307\n",
            "17308\n",
            "17309\n",
            "17310\n",
            "17311\n",
            "17312\n",
            "17313\n",
            "17314\n",
            "17315\n",
            "17316\n",
            "17317\n",
            "17318\n",
            "17319\n",
            "17320\n",
            "17321\n",
            "17322\n",
            "17323\n",
            "17324\n",
            "17325\n",
            "17326\n",
            "17327\n",
            "17328\n",
            "17329\n",
            "17330\n",
            "17331\n",
            "17332\n",
            "17333\n",
            "17334\n",
            "17335\n",
            "17336\n",
            "17337\n",
            "17338\n",
            "17339\n",
            "17340\n",
            "17341\n",
            "17342\n",
            "17343\n",
            "17344\n",
            "17345\n",
            "17346\n",
            "17347\n",
            "17348\n",
            "17349\n",
            "17350\n",
            "17351\n",
            "17352\n",
            "17353\n",
            "17354\n",
            "17355\n",
            "17356\n",
            "17357\n",
            "17358\n",
            "17359\n",
            "17360\n",
            "17361\n",
            "17362\n",
            "17363\n",
            "17364\n",
            "17365\n",
            "17366\n",
            "17367\n",
            "17368\n",
            "17369\n",
            "17370\n",
            "17371\n",
            "17372\n",
            "17373\n",
            "17374\n",
            "17375\n",
            "17376\n",
            "17377\n",
            "17378\n",
            "17379\n",
            "17380\n",
            "17381\n",
            "17382\n",
            "17383\n",
            "17384\n",
            "17385\n",
            "17386\n",
            "17387\n",
            "17388\n",
            "17389\n",
            "17390\n",
            "17391\n",
            "17392\n",
            "17393\n",
            "17394\n",
            "17395\n",
            "17396\n",
            "17397\n",
            "17398\n",
            "17399\n",
            "17400\n",
            "17401\n",
            "17402\n",
            "17403\n",
            "17404\n",
            "17405\n",
            "17406\n",
            "17407\n",
            "17408\n",
            "17409\n",
            "17410\n",
            "17411\n",
            "17412\n",
            "17413\n",
            "17414\n",
            "17415\n",
            "17416\n",
            "17417\n",
            "17418\n",
            "17419\n",
            "17420\n",
            "17421\n",
            "17422\n",
            "17423\n",
            "17424\n",
            "17425\n",
            "17426\n",
            "17427\n",
            "17428\n",
            "17429\n",
            "17430\n",
            "17431\n",
            "17432\n",
            "17433\n",
            "17434\n",
            "17435\n",
            "17436\n",
            "17437\n",
            "17438\n",
            "17439\n",
            "17440\n",
            "17441\n",
            "17442\n",
            "17443\n",
            "17444\n",
            "17445\n",
            "17446\n",
            "17447\n",
            "17448\n",
            "17449\n",
            "17450\n",
            "17451\n",
            "17452\n",
            "17453\n",
            "17454\n",
            "17455\n",
            "17456\n",
            "17457\n",
            "17458\n",
            "17459\n",
            "17460\n",
            "17461\n",
            "17462\n",
            "17463\n",
            "17464\n",
            "17465\n",
            "17466\n",
            "17467\n",
            "17468\n",
            "17469\n",
            "17470\n",
            "17471\n",
            "17472\n",
            "17473\n",
            "17474\n",
            "17475\n",
            "17476\n",
            "17477\n",
            "17478\n",
            "17479\n",
            "17480\n",
            "17481\n",
            "17482\n",
            "17483\n",
            "17484\n",
            "17485\n",
            "17486\n",
            "17487\n",
            "17488\n",
            "17489\n",
            "17490\n",
            "17491\n",
            "17492\n",
            "17493\n",
            "17494\n",
            "17495\n",
            "17496\n",
            "17497\n",
            "17498\n",
            "17499\n",
            "17500\n",
            "17501\n",
            "17502\n",
            "17503\n",
            "17504\n",
            "17505\n",
            "17506\n",
            "17507\n",
            "17508\n",
            "17509\n",
            "17510\n",
            "17511\n",
            "17512\n",
            "17513\n",
            "17514\n",
            "17515\n",
            "17516\n",
            "17517\n",
            "17518\n",
            "17519\n",
            "17520\n",
            "17521\n",
            "17522\n",
            "17523\n",
            "17524\n",
            "17525\n",
            "17526\n",
            "17527\n",
            "17528\n",
            "17529\n",
            "17530\n",
            "17531\n",
            "17532\n",
            "17533\n",
            "17534\n",
            "17535\n",
            "17536\n",
            "17537\n",
            "17538\n",
            "17539\n",
            "17540\n",
            "17541\n",
            "17542\n",
            "17543\n",
            "17544\n",
            "17545\n",
            "17546\n",
            "17547\n",
            "17548\n",
            "17549\n",
            "17550\n",
            "17551\n",
            "17552\n",
            "17553\n",
            "17554\n",
            "17555\n",
            "17556\n",
            "17557\n",
            "17558\n",
            "17559\n",
            "17560\n",
            "17561\n",
            "17562\n",
            "17563\n",
            "17564\n",
            "17565\n",
            "17566\n",
            "17567\n",
            "17568\n",
            "17569\n",
            "17570\n",
            "17571\n",
            "17572\n",
            "17573\n",
            "17574\n",
            "17575\n",
            "17576\n",
            "17577\n",
            "17578\n",
            "17579\n",
            "17580\n",
            "17581\n",
            "17582\n",
            "17583\n",
            "17584\n",
            "17585\n",
            "17586\n",
            "17587\n",
            "17588\n",
            "17589\n",
            "17590\n",
            "17591\n",
            "17592\n",
            "17593\n",
            "17594\n",
            "17595\n",
            "17596\n",
            "17597\n",
            "17598\n",
            "17599\n",
            "17600\n",
            "17601\n",
            "17602\n",
            "17603\n",
            "17604\n",
            "17605\n",
            "17606\n",
            "17607\n",
            "17608\n",
            "17609\n",
            "17610\n",
            "17611\n",
            "17612\n",
            "17613\n",
            "17614\n",
            "17615\n",
            "17616\n",
            "17617\n",
            "17618\n",
            "17619\n",
            "17620\n",
            "17621\n",
            "17622\n",
            "17623\n",
            "17624\n",
            "17625\n"
          ]
        }
      ]
    },
    {
      "cell_type": "code",
      "metadata": {
        "id": "zZR7FJR89jsM"
      },
      "source": [
        "full_data = pd.DataFrame(full)\n",
        "full_data.to_csv('full_data.csv')"
      ],
      "execution_count": null,
      "outputs": []
    },
    {
      "cell_type": "code",
      "metadata": {
        "colab": {
          "base_uri": "https://localhost:8080/",
          "height": 16
        },
        "id": "76Y4xRSU9x-0",
        "outputId": "70632131-2bdb-43aa-c3dd-70eda41be78e"
      },
      "source": [
        "from google.colab import files\n",
        "files.download('full_data.csv')"
      ],
      "execution_count": null,
      "outputs": [
        {
          "output_type": "display_data",
          "data": {
            "application/javascript": [
              "\n",
              "    async function download(id, filename, size) {\n",
              "      if (!google.colab.kernel.accessAllowed) {\n",
              "        return;\n",
              "      }\n",
              "      const div = document.createElement('div');\n",
              "      const label = document.createElement('label');\n",
              "      label.textContent = `Downloading \"${filename}\": `;\n",
              "      div.appendChild(label);\n",
              "      const progress = document.createElement('progress');\n",
              "      progress.max = size;\n",
              "      div.appendChild(progress);\n",
              "      document.body.appendChild(div);\n",
              "\n",
              "      const buffers = [];\n",
              "      let downloaded = 0;\n",
              "\n",
              "      const channel = await google.colab.kernel.comms.open(id);\n",
              "      // Send a message to notify the kernel that we're ready.\n",
              "      channel.send({})\n",
              "\n",
              "      for await (const message of channel.messages) {\n",
              "        // Send a message to notify the kernel that we're ready.\n",
              "        channel.send({})\n",
              "        if (message.buffers) {\n",
              "          for (const buffer of message.buffers) {\n",
              "            buffers.push(buffer);\n",
              "            downloaded += buffer.byteLength;\n",
              "            progress.value = downloaded;\n",
              "          }\n",
              "        }\n",
              "      }\n",
              "      const blob = new Blob(buffers, {type: 'application/binary'});\n",
              "      const a = document.createElement('a');\n",
              "      a.href = window.URL.createObjectURL(blob);\n",
              "      a.download = filename;\n",
              "      div.appendChild(a);\n",
              "      a.click();\n",
              "      div.remove();\n",
              "    }\n",
              "  "
            ],
            "text/plain": [
              "<IPython.core.display.Javascript object>"
            ]
          },
          "metadata": {}
        },
        {
          "output_type": "display_data",
          "data": {
            "application/javascript": [
              "download(\"download_01441a5f-b8bc-428b-9e00-023d58d1f695\", \"full_data.csv\", 2660160)"
            ],
            "text/plain": [
              "<IPython.core.display.Javascript object>"
            ]
          },
          "metadata": {}
        }
      ]
    },
    {
      "cell_type": "code",
      "metadata": {
        "id": "Zldyo_vBejz0"
      },
      "source": [
        "full1 = pd.read_csv('/content/drive/MyDrive/information retrieval/full_data_8047.csv')\n",
        "full2 = pd.read_csv('/content/drive/MyDrive/information retrieval/full_data_15116.csv')\n",
        "full3 = pd.read_csv('/content/drive/MyDrive/information retrieval/full_data_end.csv')"
      ],
      "execution_count": 89,
      "outputs": []
    },
    {
      "cell_type": "code",
      "metadata": {
        "id": "VPd2GwlUgLlA"
      },
      "source": [
        "full = pd.concat([full1,full2,full3], axis = 0)"
      ],
      "execution_count": 90,
      "outputs": []
    },
    {
      "cell_type": "code",
      "metadata": {
        "id": "brLC--x4gZma"
      },
      "source": [
        "full = full.drop(['Unnamed: 0'], axis = 1).reset_index().drop(['index'], axis = 1)"
      ],
      "execution_count": 91,
      "outputs": []
    },
    {
      "cell_type": "code",
      "metadata": {
        "id": "oYVWeJdeqtQR"
      },
      "source": [
        "def clean_cat(lis):\n",
        "  cat = []\n",
        "  c = lis.split(',')\n",
        "  for j in c:\n",
        "    cat.append(j[2:-1])\n",
        "  return cat"
      ],
      "execution_count": 92,
      "outputs": []
    },
    {
      "cell_type": "code",
      "metadata": {
        "id": "NoGUZnp5qtQS"
      },
      "source": [
        "full ['category'] = full['category'].apply(clean_cat)"
      ],
      "execution_count": 93,
      "outputs": []
    },
    {
      "cell_type": "code",
      "metadata": {
        "id": "3l99ftQYhJuX"
      },
      "source": [
        "full.to_csv('/content/drive/MyDrive/information retrieval/full_data.csv')"
      ],
      "execution_count": 113,
      "outputs": []
    },
    {
      "cell_type": "code",
      "metadata": {
        "id": "8PjmKsQShYR7"
      },
      "source": [
        "war = full['category'][0][:9]"
      ],
      "execution_count": 95,
      "outputs": []
    },
    {
      "cell_type": "code",
      "metadata": {
        "colab": {
          "base_uri": "https://localhost:8080/"
        },
        "id": "kWPRu8xqsgFP",
        "outputId": "7c652162-b312-475c-ee46-ec7d5a673e29"
      },
      "source": [
        "war"
      ],
      "execution_count": 96,
      "outputs": [
        {
          "output_type": "execute_result",
          "data": {
            "text/plain": [
              "['1022', '1020', '1010', '1046', '1047', '2689', '2839', '2018', '2857']"
            ]
          },
          "metadata": {},
          "execution_count": 96
        }
      ]
    },
    {
      "cell_type": "code",
      "metadata": {
        "id": "4s2L_UvRroSN"
      },
      "source": [
        "selection = []\n",
        "for c in range(len(full)):\n",
        "  b = any(i in full['category'][c] for i in war)\n",
        "  selection.append(b)"
      ],
      "execution_count": 107,
      "outputs": []
    },
    {
      "cell_type": "code",
      "metadata": {
        "id": "n-Lflz2jt-HQ"
      },
      "source": [
        "full['selection'] = selection"
      ],
      "execution_count": 108,
      "outputs": []
    },
    {
      "cell_type": "code",
      "metadata": {
        "id": "PR59cCNxukLu"
      },
      "source": [
        "wargame = full[full['selection']==True]"
      ],
      "execution_count": 111,
      "outputs": []
    },
    {
      "cell_type": "markdown",
      "metadata": {
        "id": "tnRELbsXvSJq"
      },
      "source": [
        "# 2. Aspect Extraction"
      ]
    },
    {
      "cell_type": "markdown",
      "metadata": {
        "id": "Np6l6pH4vkT7"
      },
      "source": [
        "## 2.1 Text Cleaning"
      ]
    },
    {
      "cell_type": "code",
      "metadata": {
        "id": "SpIN5XeAvjns",
        "colab": {
          "base_uri": "https://localhost:8080/"
        },
        "collapsed": true,
        "outputId": "0d214a8b-a83a-4182-8a57-08dc56a81a69"
      },
      "source": [
        "!pip install nltk\n",
        "import nltk\n",
        "nltk.download(\"all\")\n",
        "from nltk import sent_tokenize\n",
        "sentences = [] # each description as a doc\n",
        "for i in wargame['description']:\n",
        "    s = sent_tokenize(i)\n",
        "    sentences.append(s)\n",
        "sentences[0]"
      ],
      "execution_count": 114,
      "outputs": [
        {
          "output_type": "stream",
          "name": "stdout",
          "text": [
            "Requirement already satisfied: nltk in /usr/local/lib/python3.7/dist-packages (3.2.5)\n",
            "Requirement already satisfied: six in /usr/local/lib/python3.7/dist-packages (from nltk) (1.15.0)\n",
            "[nltk_data] Downloading collection 'all'\n",
            "[nltk_data]    | \n",
            "[nltk_data]    | Downloading package abc to /root/nltk_data...\n",
            "[nltk_data]    |   Unzipping corpora/abc.zip.\n",
            "[nltk_data]    | Downloading package alpino to /root/nltk_data...\n",
            "[nltk_data]    |   Unzipping corpora/alpino.zip.\n",
            "[nltk_data]    | Downloading package biocreative_ppi to\n",
            "[nltk_data]    |     /root/nltk_data...\n",
            "[nltk_data]    |   Unzipping corpora/biocreative_ppi.zip.\n",
            "[nltk_data]    | Downloading package brown to /root/nltk_data...\n",
            "[nltk_data]    |   Unzipping corpora/brown.zip.\n",
            "[nltk_data]    | Downloading package brown_tei to /root/nltk_data...\n",
            "[nltk_data]    |   Unzipping corpora/brown_tei.zip.\n",
            "[nltk_data]    | Downloading package cess_cat to /root/nltk_data...\n",
            "[nltk_data]    |   Unzipping corpora/cess_cat.zip.\n",
            "[nltk_data]    | Downloading package cess_esp to /root/nltk_data...\n",
            "[nltk_data]    |   Unzipping corpora/cess_esp.zip.\n",
            "[nltk_data]    | Downloading package chat80 to /root/nltk_data...\n",
            "[nltk_data]    |   Unzipping corpora/chat80.zip.\n",
            "[nltk_data]    | Downloading package city_database to\n",
            "[nltk_data]    |     /root/nltk_data...\n",
            "[nltk_data]    |   Unzipping corpora/city_database.zip.\n",
            "[nltk_data]    | Downloading package cmudict to /root/nltk_data...\n",
            "[nltk_data]    |   Unzipping corpora/cmudict.zip.\n",
            "[nltk_data]    | Downloading package comparative_sentences to\n",
            "[nltk_data]    |     /root/nltk_data...\n",
            "[nltk_data]    |   Unzipping corpora/comparative_sentences.zip.\n",
            "[nltk_data]    | Downloading package comtrans to /root/nltk_data...\n",
            "[nltk_data]    | Downloading package conll2000 to /root/nltk_data...\n",
            "[nltk_data]    |   Unzipping corpora/conll2000.zip.\n",
            "[nltk_data]    | Downloading package conll2002 to /root/nltk_data...\n",
            "[nltk_data]    |   Unzipping corpora/conll2002.zip.\n",
            "[nltk_data]    | Downloading package conll2007 to /root/nltk_data...\n",
            "[nltk_data]    | Downloading package crubadan to /root/nltk_data...\n",
            "[nltk_data]    |   Unzipping corpora/crubadan.zip.\n",
            "[nltk_data]    | Downloading package dependency_treebank to\n",
            "[nltk_data]    |     /root/nltk_data...\n",
            "[nltk_data]    |   Unzipping corpora/dependency_treebank.zip.\n",
            "[nltk_data]    | Downloading package dolch to /root/nltk_data...\n",
            "[nltk_data]    |   Unzipping corpora/dolch.zip.\n",
            "[nltk_data]    | Downloading package europarl_raw to\n",
            "[nltk_data]    |     /root/nltk_data...\n",
            "[nltk_data]    |   Unzipping corpora/europarl_raw.zip.\n",
            "[nltk_data]    | Downloading package floresta to /root/nltk_data...\n",
            "[nltk_data]    |   Unzipping corpora/floresta.zip.\n",
            "[nltk_data]    | Downloading package framenet_v15 to\n",
            "[nltk_data]    |     /root/nltk_data...\n",
            "[nltk_data]    |   Unzipping corpora/framenet_v15.zip.\n",
            "[nltk_data]    | Downloading package framenet_v17 to\n",
            "[nltk_data]    |     /root/nltk_data...\n",
            "[nltk_data]    |   Unzipping corpora/framenet_v17.zip.\n",
            "[nltk_data]    | Downloading package gazetteers to /root/nltk_data...\n",
            "[nltk_data]    |   Unzipping corpora/gazetteers.zip.\n",
            "[nltk_data]    | Downloading package genesis to /root/nltk_data...\n",
            "[nltk_data]    |   Unzipping corpora/genesis.zip.\n",
            "[nltk_data]    | Downloading package gutenberg to /root/nltk_data...\n",
            "[nltk_data]    |   Unzipping corpora/gutenberg.zip.\n",
            "[nltk_data]    | Downloading package ieer to /root/nltk_data...\n",
            "[nltk_data]    |   Unzipping corpora/ieer.zip.\n",
            "[nltk_data]    | Downloading package inaugural to /root/nltk_data...\n",
            "[nltk_data]    |   Unzipping corpora/inaugural.zip.\n",
            "[nltk_data]    | Downloading package indian to /root/nltk_data...\n",
            "[nltk_data]    |   Unzipping corpora/indian.zip.\n",
            "[nltk_data]    | Downloading package jeita to /root/nltk_data...\n",
            "[nltk_data]    | Downloading package kimmo to /root/nltk_data...\n",
            "[nltk_data]    |   Unzipping corpora/kimmo.zip.\n",
            "[nltk_data]    | Downloading package knbc to /root/nltk_data...\n",
            "[nltk_data]    | Downloading package lin_thesaurus to\n",
            "[nltk_data]    |     /root/nltk_data...\n",
            "[nltk_data]    |   Unzipping corpora/lin_thesaurus.zip.\n",
            "[nltk_data]    | Downloading package mac_morpho to /root/nltk_data...\n",
            "[nltk_data]    |   Unzipping corpora/mac_morpho.zip.\n",
            "[nltk_data]    | Downloading package machado to /root/nltk_data...\n",
            "[nltk_data]    | Downloading package masc_tagged to /root/nltk_data...\n",
            "[nltk_data]    | Downloading package moses_sample to\n",
            "[nltk_data]    |     /root/nltk_data...\n",
            "[nltk_data]    |   Unzipping models/moses_sample.zip.\n",
            "[nltk_data]    | Downloading package movie_reviews to\n",
            "[nltk_data]    |     /root/nltk_data...\n",
            "[nltk_data]    |   Unzipping corpora/movie_reviews.zip.\n",
            "[nltk_data]    | Downloading package names to /root/nltk_data...\n",
            "[nltk_data]    |   Unzipping corpora/names.zip.\n",
            "[nltk_data]    | Downloading package nombank.1.0 to /root/nltk_data...\n",
            "[nltk_data]    | Downloading package nps_chat to /root/nltk_data...\n",
            "[nltk_data]    |   Unzipping corpora/nps_chat.zip.\n",
            "[nltk_data]    | Downloading package omw to /root/nltk_data...\n",
            "[nltk_data]    |   Unzipping corpora/omw.zip.\n",
            "[nltk_data]    | Downloading package opinion_lexicon to\n",
            "[nltk_data]    |     /root/nltk_data...\n",
            "[nltk_data]    |   Unzipping corpora/opinion_lexicon.zip.\n",
            "[nltk_data]    | Downloading package paradigms to /root/nltk_data...\n",
            "[nltk_data]    |   Unzipping corpora/paradigms.zip.\n",
            "[nltk_data]    | Downloading package pil to /root/nltk_data...\n",
            "[nltk_data]    |   Unzipping corpora/pil.zip.\n",
            "[nltk_data]    | Downloading package pl196x to /root/nltk_data...\n",
            "[nltk_data]    |   Unzipping corpora/pl196x.zip.\n",
            "[nltk_data]    | Downloading package ppattach to /root/nltk_data...\n",
            "[nltk_data]    |   Unzipping corpora/ppattach.zip.\n",
            "[nltk_data]    | Downloading package problem_reports to\n",
            "[nltk_data]    |     /root/nltk_data...\n",
            "[nltk_data]    |   Unzipping corpora/problem_reports.zip.\n",
            "[nltk_data]    | Downloading package propbank to /root/nltk_data...\n",
            "[nltk_data]    | Downloading package ptb to /root/nltk_data...\n",
            "[nltk_data]    |   Unzipping corpora/ptb.zip.\n",
            "[nltk_data]    | Downloading package product_reviews_1 to\n",
            "[nltk_data]    |     /root/nltk_data...\n",
            "[nltk_data]    |   Unzipping corpora/product_reviews_1.zip.\n",
            "[nltk_data]    | Downloading package product_reviews_2 to\n",
            "[nltk_data]    |     /root/nltk_data...\n",
            "[nltk_data]    |   Unzipping corpora/product_reviews_2.zip.\n",
            "[nltk_data]    | Downloading package pros_cons to /root/nltk_data...\n",
            "[nltk_data]    |   Unzipping corpora/pros_cons.zip.\n",
            "[nltk_data]    | Downloading package qc to /root/nltk_data...\n",
            "[nltk_data]    |   Unzipping corpora/qc.zip.\n",
            "[nltk_data]    | Downloading package reuters to /root/nltk_data...\n",
            "[nltk_data]    | Downloading package rte to /root/nltk_data...\n",
            "[nltk_data]    |   Unzipping corpora/rte.zip.\n",
            "[nltk_data]    | Downloading package semcor to /root/nltk_data...\n",
            "[nltk_data]    | Downloading package senseval to /root/nltk_data...\n",
            "[nltk_data]    |   Unzipping corpora/senseval.zip.\n",
            "[nltk_data]    | Downloading package sentiwordnet to\n",
            "[nltk_data]    |     /root/nltk_data...\n",
            "[nltk_data]    |   Unzipping corpora/sentiwordnet.zip.\n",
            "[nltk_data]    | Downloading package sentence_polarity to\n",
            "[nltk_data]    |     /root/nltk_data...\n",
            "[nltk_data]    |   Unzipping corpora/sentence_polarity.zip.\n",
            "[nltk_data]    | Downloading package shakespeare to /root/nltk_data...\n",
            "[nltk_data]    |   Unzipping corpora/shakespeare.zip.\n",
            "[nltk_data]    | Downloading package sinica_treebank to\n",
            "[nltk_data]    |     /root/nltk_data...\n",
            "[nltk_data]    |   Unzipping corpora/sinica_treebank.zip.\n",
            "[nltk_data]    | Downloading package smultron to /root/nltk_data...\n",
            "[nltk_data]    |   Unzipping corpora/smultron.zip.\n",
            "[nltk_data]    | Downloading package state_union to /root/nltk_data...\n",
            "[nltk_data]    |   Unzipping corpora/state_union.zip.\n",
            "[nltk_data]    | Downloading package stopwords to /root/nltk_data...\n",
            "[nltk_data]    |   Unzipping corpora/stopwords.zip.\n",
            "[nltk_data]    | Downloading package subjectivity to\n",
            "[nltk_data]    |     /root/nltk_data...\n",
            "[nltk_data]    |   Unzipping corpora/subjectivity.zip.\n",
            "[nltk_data]    | Downloading package swadesh to /root/nltk_data...\n",
            "[nltk_data]    |   Unzipping corpora/swadesh.zip.\n",
            "[nltk_data]    | Downloading package switchboard to /root/nltk_data...\n",
            "[nltk_data]    |   Unzipping corpora/switchboard.zip.\n",
            "[nltk_data]    | Downloading package timit to /root/nltk_data...\n",
            "[nltk_data]    |   Unzipping corpora/timit.zip.\n",
            "[nltk_data]    | Downloading package toolbox to /root/nltk_data...\n",
            "[nltk_data]    |   Unzipping corpora/toolbox.zip.\n",
            "[nltk_data]    | Downloading package treebank to /root/nltk_data...\n",
            "[nltk_data]    |   Unzipping corpora/treebank.zip.\n",
            "[nltk_data]    | Downloading package twitter_samples to\n",
            "[nltk_data]    |     /root/nltk_data...\n",
            "[nltk_data]    |   Unzipping corpora/twitter_samples.zip.\n",
            "[nltk_data]    | Downloading package udhr to /root/nltk_data...\n",
            "[nltk_data]    |   Unzipping corpora/udhr.zip.\n",
            "[nltk_data]    | Downloading package udhr2 to /root/nltk_data...\n",
            "[nltk_data]    |   Unzipping corpora/udhr2.zip.\n",
            "[nltk_data]    | Downloading package unicode_samples to\n",
            "[nltk_data]    |     /root/nltk_data...\n",
            "[nltk_data]    |   Unzipping corpora/unicode_samples.zip.\n",
            "[nltk_data]    | Downloading package universal_treebanks_v20 to\n",
            "[nltk_data]    |     /root/nltk_data...\n",
            "[nltk_data]    | Downloading package verbnet to /root/nltk_data...\n",
            "[nltk_data]    |   Unzipping corpora/verbnet.zip.\n",
            "[nltk_data]    | Downloading package verbnet3 to /root/nltk_data...\n",
            "[nltk_data]    |   Unzipping corpora/verbnet3.zip.\n",
            "[nltk_data]    | Downloading package webtext to /root/nltk_data...\n",
            "[nltk_data]    |   Unzipping corpora/webtext.zip.\n",
            "[nltk_data]    | Downloading package wordnet to /root/nltk_data...\n",
            "[nltk_data]    |   Unzipping corpora/wordnet.zip.\n",
            "[nltk_data]    | Downloading package wordnet_ic to /root/nltk_data...\n",
            "[nltk_data]    |   Unzipping corpora/wordnet_ic.zip.\n",
            "[nltk_data]    | Downloading package words to /root/nltk_data...\n",
            "[nltk_data]    |   Unzipping corpora/words.zip.\n",
            "[nltk_data]    | Downloading package ycoe to /root/nltk_data...\n",
            "[nltk_data]    |   Unzipping corpora/ycoe.zip.\n",
            "[nltk_data]    | Downloading package rslp to /root/nltk_data...\n",
            "[nltk_data]    |   Unzipping stemmers/rslp.zip.\n",
            "[nltk_data]    | Downloading package maxent_treebank_pos_tagger to\n",
            "[nltk_data]    |     /root/nltk_data...\n",
            "[nltk_data]    |   Unzipping taggers/maxent_treebank_pos_tagger.zip.\n",
            "[nltk_data]    | Downloading package universal_tagset to\n",
            "[nltk_data]    |     /root/nltk_data...\n",
            "[nltk_data]    |   Unzipping taggers/universal_tagset.zip.\n",
            "[nltk_data]    | Downloading package maxent_ne_chunker to\n",
            "[nltk_data]    |     /root/nltk_data...\n",
            "[nltk_data]    |   Unzipping chunkers/maxent_ne_chunker.zip.\n",
            "[nltk_data]    | Downloading package punkt to /root/nltk_data...\n",
            "[nltk_data]    |   Unzipping tokenizers/punkt.zip.\n",
            "[nltk_data]    | Downloading package book_grammars to\n",
            "[nltk_data]    |     /root/nltk_data...\n",
            "[nltk_data]    |   Unzipping grammars/book_grammars.zip.\n",
            "[nltk_data]    | Downloading package sample_grammars to\n",
            "[nltk_data]    |     /root/nltk_data...\n",
            "[nltk_data]    |   Unzipping grammars/sample_grammars.zip.\n",
            "[nltk_data]    | Downloading package spanish_grammars to\n",
            "[nltk_data]    |     /root/nltk_data...\n",
            "[nltk_data]    |   Unzipping grammars/spanish_grammars.zip.\n",
            "[nltk_data]    | Downloading package basque_grammars to\n",
            "[nltk_data]    |     /root/nltk_data...\n",
            "[nltk_data]    |   Unzipping grammars/basque_grammars.zip.\n",
            "[nltk_data]    | Downloading package large_grammars to\n",
            "[nltk_data]    |     /root/nltk_data...\n",
            "[nltk_data]    |   Unzipping grammars/large_grammars.zip.\n",
            "[nltk_data]    | Downloading package tagsets to /root/nltk_data...\n",
            "[nltk_data]    |   Unzipping help/tagsets.zip.\n",
            "[nltk_data]    | Downloading package snowball_data to\n",
            "[nltk_data]    |     /root/nltk_data...\n",
            "[nltk_data]    | Downloading package bllip_wsj_no_aux to\n",
            "[nltk_data]    |     /root/nltk_data...\n",
            "[nltk_data]    |   Unzipping models/bllip_wsj_no_aux.zip.\n",
            "[nltk_data]    | Downloading package word2vec_sample to\n",
            "[nltk_data]    |     /root/nltk_data...\n",
            "[nltk_data]    |   Unzipping models/word2vec_sample.zip.\n",
            "[nltk_data]    | Downloading package panlex_swadesh to\n",
            "[nltk_data]    |     /root/nltk_data...\n",
            "[nltk_data]    | Downloading package mte_teip5 to /root/nltk_data...\n",
            "[nltk_data]    |   Unzipping corpora/mte_teip5.zip.\n",
            "[nltk_data]    | Downloading package averaged_perceptron_tagger to\n",
            "[nltk_data]    |     /root/nltk_data...\n",
            "[nltk_data]    |   Unzipping taggers/averaged_perceptron_tagger.zip.\n",
            "[nltk_data]    | Downloading package averaged_perceptron_tagger_ru to\n",
            "[nltk_data]    |     /root/nltk_data...\n",
            "[nltk_data]    |   Unzipping\n",
            "[nltk_data]    |       taggers/averaged_perceptron_tagger_ru.zip.\n",
            "[nltk_data]    | Downloading package perluniprops to\n",
            "[nltk_data]    |     /root/nltk_data...\n",
            "[nltk_data]    |   Unzipping misc/perluniprops.zip.\n",
            "[nltk_data]    | Downloading package nonbreaking_prefixes to\n",
            "[nltk_data]    |     /root/nltk_data...\n",
            "[nltk_data]    |   Unzipping corpora/nonbreaking_prefixes.zip.\n",
            "[nltk_data]    | Downloading package vader_lexicon to\n",
            "[nltk_data]    |     /root/nltk_data...\n",
            "[nltk_data]    | Downloading package porter_test to /root/nltk_data...\n",
            "[nltk_data]    |   Unzipping stemmers/porter_test.zip.\n",
            "[nltk_data]    | Downloading package wmt15_eval to /root/nltk_data...\n",
            "[nltk_data]    |   Unzipping models/wmt15_eval.zip.\n",
            "[nltk_data]    | Downloading package mwa_ppdb to /root/nltk_data...\n",
            "[nltk_data]    |   Unzipping misc/mwa_ppdb.zip.\n",
            "[nltk_data]    | \n",
            "[nltk_data]  Done downloading collection all\n"
          ]
        },
        {
          "output_type": "execute_result",
          "data": {
            "text/plain": [
              "['Gloomhaven  is a game of Euro-inspired tactical combat in a persistent world of shifting motives.',\n",
              " 'Players will take on the role of a wandering adventurer with their own special set of skills and their own reasons for traveling to this dark corner of the world.',\n",
              " 'Players must work together out of necessity to clear out menacing dungeons and forgotten ruins.',\n",
              " 'In the process, they will enhance their abilities with experience and loot, discover new locations to explore and plunder, and expand an ever-branching story fueled by the decisions they make.&#10;&#10;This is a game with a persistent and changing world that is ideally played over many game sessions.',\n",
              " 'After a scenario, players will make decisions on what to do, which will determine how the story continues, kind of like a &ldquo;Choose Your Own Adventure&rdquo; book.',\n",
              " 'Playing through a scenario is a cooperative affair where players will fight against automated monsters using an innovative card system to determine the order of play and what a player does on their turn.&#10;&#10;Each turn, a player chooses two cards to play out of their hand.',\n",
              " 'The number on the top card determines their initiative for the round.',\n",
              " 'Each card also has a top and bottom power, and when it is a player&rsquo;s turn in the initiative order, they determine whether to use the top power of one card and the bottom power of the other, or vice-versa.',\n",
              " 'Players must be careful, though, because over time they will permanently lose cards from their hands.',\n",
              " 'If they take too long to clear a dungeon, they may end up exhausted and be forced to retreat.&#10;&#10;']"
            ]
          },
          "metadata": {},
          "execution_count": 114
        }
      ]
    },
    {
      "cell_type": "code",
      "metadata": {
        "id": "c9Mp-4KDdBxZ"
      },
      "source": [
        "# tokenization\n",
        "from nltk.tokenize import word_tokenize\n",
        "token_list= []\n",
        "for i in sentences: # i is comment level\n",
        "    for j in i:\n",
        "      tokens = word_tokenize(j)\n",
        "      words = [word for word in tokens if word.isalpha()]\n",
        "      words = [word.lower() for word in words]\n",
        "      token_list.append(words)"
      ],
      "execution_count": 115,
      "outputs": []
    },
    {
      "cell_type": "code",
      "metadata": {
        "id": "j_scoVG0vZmp"
      },
      "source": [
        "# lemmatization\n",
        "from nltk.stem import WordNetLemmatizer \n",
        "from nltk.corpus import wordnet \n",
        "lemmatizer = WordNetLemmatizer() \n",
        "def pos_tagger(nltk_tag): \n",
        "    if nltk_tag.startswith('J'): \n",
        "        return wordnet.ADJ \n",
        "    elif nltk_tag.startswith('V'): \n",
        "        return wordnet.VERB \n",
        "    elif nltk_tag.startswith('N'): \n",
        "        return wordnet.NOUN \n",
        "    elif nltk_tag.startswith('R'): \n",
        "        return wordnet.ADV \n",
        "    else:           \n",
        "        return None\n",
        "lemma_list = []\n",
        "for i in token_list:\n",
        "  pos_tagged = nltk.pos_tag(i)\n",
        "  wordnet_tagged = list(map(lambda x: (x[0], pos_tagger(x[1])), pos_tagged))\n",
        "  lemma = [] \n",
        "  for word, tag in wordnet_tagged:\n",
        "    if word == \"i\":\n",
        "      continue\n",
        "    if tag is None: \n",
        "      # if there is no available tag, append the token as is \n",
        "      lemma.append(word) \n",
        "    else:         \n",
        "      # else use the tag to lemmatize the token \n",
        "      lemma.append(lemmatizer.lemmatize(word, tag))\n",
        "  lemma_list.append(lemma)"
      ],
      "execution_count": 116,
      "outputs": []
    },
    {
      "cell_type": "markdown",
      "metadata": {
        "id": "e0GBSkPawkMM"
      },
      "source": [
        "## 2.2 Aspect Extraction"
      ]
    },
    {
      "cell_type": "code",
      "metadata": {
        "id": "PssSHZdly54I"
      },
      "source": [
        "bi = []\n",
        "for item in lemma_list:\n",
        "  grams = [item[i:i+2] for i in range(len(item)-2+1)]\n",
        "  bigrams = [' '.join(j) for j in grams]\n",
        "  bi.append(bigrams)"
      ],
      "execution_count": 118,
      "outputs": []
    },
    {
      "cell_type": "code",
      "metadata": {
        "id": "UuY5eU_hGXgo"
      },
      "source": [
        "bi_v = [bigram for i in bi for bigram in i]\n",
        "uni_v = [unigram for i in lemma_list for unigram in i]"
      ],
      "execution_count": 119,
      "outputs": []
    },
    {
      "cell_type": "code",
      "metadata": {
        "id": "NR0yxSGr35yN"
      },
      "source": [
        "counter_bi = Counter(bi_v)\n",
        "counter_uni = Counter(uni_v)"
      ],
      "execution_count": 137,
      "outputs": []
    },
    {
      "cell_type": "code",
      "metadata": {
        "id": "BB_HKzL9mdAn"
      },
      "source": [
        "from nltk.corpus import stopwords"
      ],
      "execution_count": 121,
      "outputs": []
    },
    {
      "cell_type": "code",
      "metadata": {
        "id": "jO6NdDUrksD1"
      },
      "source": [
        "# filter before computing for less noise\n",
        "for i in list(counter_bi.keys()):\n",
        "  if i.split()[0] in stopwords.words('english'):\n",
        "    if i.split()[1] in stopwords.words('english'):\n",
        "      counter_bi.pop(i)"
      ],
      "execution_count": 122,
      "outputs": []
    },
    {
      "cell_type": "code",
      "metadata": {
        "id": "vV9LMmlTn6ZQ"
      },
      "source": [
        "for i in list(counter_bi.keys()):\n",
        "  w,t = nltk.pos_tag(i.split())[0]\n",
        "  w1,t1 = nltk.pos_tag(i.split())[1]\n",
        "  if t[0] != \"N\":\n",
        "    if t1[0] != \"N\":\n",
        "      counter_bi.pop(i)"
      ],
      "execution_count": 123,
      "outputs": []
    },
    {
      "cell_type": "code",
      "metadata": {
        "id": "l2Zd2RQbJqOg"
      },
      "source": [
        "import math\n",
        "def pmi_index(bigram):\n",
        "  a, b = bigram.split()\n",
        "  pmi = math.log(counter_bi[bigram]/((counter_uni[a]-counter_bi[bigram])*(counter_uni[b]-counter_bi[bigram])/(len(uni_v)-counter_bi[a])))\n",
        "  return pmi"
      ],
      "execution_count": 144,
      "outputs": []
    },
    {
      "cell_type": "code",
      "metadata": {
        "id": "m6g6jtXwTPkb"
      },
      "source": [
        "counter_b = counter_bi.most_common(100)"
      ],
      "execution_count": 125,
      "outputs": []
    },
    {
      "cell_type": "code",
      "metadata": {
        "id": "2cqUrLjwrDQ6"
      },
      "source": [
        "bi_gram_list = [k for (k,v) in counter_b]"
      ],
      "execution_count": 126,
      "outputs": []
    },
    {
      "cell_type": "code",
      "metadata": {
        "id": "WYQX5KAY5Hq7"
      },
      "source": [
        "frequency = [v for (k,v) in counter_b]"
      ],
      "execution_count": 127,
      "outputs": []
    },
    {
      "cell_type": "code",
      "metadata": {
        "id": "gEEnW1HhW-81"
      },
      "source": [
        "pmi = [pmi_index(k) for (k,v) in counter_b]"
      ],
      "execution_count": 145,
      "outputs": []
    },
    {
      "cell_type": "code",
      "metadata": {
        "id": "G8-eRq9_XRVP"
      },
      "source": [
        "fre_df = pd.DataFrame({\"bigram\":bi_gram_list, \"pmi\":pmi, \"frequency\": frequency})"
      ],
      "execution_count": 146,
      "outputs": []
    },
    {
      "cell_type": "code",
      "metadata": {
        "id": "y6y1c3GycIpx",
        "colab": {
          "base_uri": "https://localhost:8080/",
          "height": 1000
        },
        "collapsed": true,
        "outputId": "c1ff4d5e-cd07-4bd5-ef89-3c961eaccf7a"
      },
      "source": [
        "fre_most = fre_df.sort_values(by=\"pmi\", ascending=False).head(50)\n",
        "fre_most"
      ],
      "execution_count": 147,
      "outputs": [
        {
          "output_type": "execute_result",
          "data": {
            "text/html": [
              "<div>\n",
              "<style scoped>\n",
              "    .dataframe tbody tr th:only-of-type {\n",
              "        vertical-align: middle;\n",
              "    }\n",
              "\n",
              "    .dataframe tbody tr th {\n",
              "        vertical-align: top;\n",
              "    }\n",
              "\n",
              "    .dataframe thead th {\n",
              "        text-align: right;\n",
              "    }\n",
              "</style>\n",
              "<table border=\"1\" class=\"dataframe\">\n",
              "  <thead>\n",
              "    <tr style=\"text-align: right;\">\n",
              "      <th></th>\n",
              "      <th>bigram</th>\n",
              "      <th>pmi</th>\n",
              "      <th>frequency</th>\n",
              "    </tr>\n",
              "  </thead>\n",
              "  <tbody>\n",
              "    <tr>\n",
              "      <th>4</th>\n",
              "      <td>rsquo s</td>\n",
              "      <td>8.795744</td>\n",
              "      <td>1064</td>\n",
              "    </tr>\n",
              "    <tr>\n",
              "      <th>76</th>\n",
              "      <td>consist of</td>\n",
              "      <td>7.150485</td>\n",
              "      <td>288</td>\n",
              "    </tr>\n",
              "    <tr>\n",
              "      <th>85</th>\n",
              "      <td>depend on</td>\n",
              "      <td>7.052704</td>\n",
              "      <td>252</td>\n",
              "    </tr>\n",
              "    <tr>\n",
              "      <th>41</th>\n",
              "      <td>description from</td>\n",
              "      <td>6.813566</td>\n",
              "      <td>492</td>\n",
              "    </tr>\n",
              "    <tr>\n",
              "      <th>89</th>\n",
              "      <td>mdash description</td>\n",
              "      <td>6.786246</td>\n",
              "      <td>240</td>\n",
              "    </tr>\n",
              "    <tr>\n",
              "      <th>49</th>\n",
              "      <td>victory point</td>\n",
              "      <td>5.930114</td>\n",
              "      <td>423</td>\n",
              "    </tr>\n",
              "    <tr>\n",
              "      <th>52</th>\n",
              "      <td>attempt to</td>\n",
              "      <td>5.589324</td>\n",
              "      <td>358</td>\n",
              "    </tr>\n",
              "    <tr>\n",
              "      <th>6</th>\n",
              "      <td>try to</td>\n",
              "      <td>5.497567</td>\n",
              "      <td>932</td>\n",
              "    </tr>\n",
              "    <tr>\n",
              "      <th>24</th>\n",
              "      <td>base on</td>\n",
              "      <td>5.133301</td>\n",
              "      <td>619</td>\n",
              "    </tr>\n",
              "    <tr>\n",
              "      <th>18</th>\n",
              "      <td>your opponent</td>\n",
              "      <td>4.920667</td>\n",
              "      <td>658</td>\n",
              "    </tr>\n",
              "    <tr>\n",
              "      <th>33</th>\n",
              "      <td>role of</td>\n",
              "      <td>4.691911</td>\n",
              "      <td>548</td>\n",
              "    </tr>\n",
              "    <tr>\n",
              "      <th>69</th>\n",
              "      <td>want to</td>\n",
              "      <td>4.581830</td>\n",
              "      <td>301</td>\n",
              "    </tr>\n",
              "    <tr>\n",
              "      <th>25</th>\n",
              "      <td>the publisher</td>\n",
              "      <td>4.439175</td>\n",
              "      <td>614</td>\n",
              "    </tr>\n",
              "    <tr>\n",
              "      <th>13</th>\n",
              "      <td>need to</td>\n",
              "      <td>4.285230</td>\n",
              "      <td>734</td>\n",
              "    </tr>\n",
              "    <tr>\n",
              "      <th>12</th>\n",
              "      <td>number of</td>\n",
              "      <td>4.109545</td>\n",
              "      <td>742</td>\n",
              "    </tr>\n",
              "    <tr>\n",
              "      <th>58</th>\n",
              "      <td>part of</td>\n",
              "      <td>4.022970</td>\n",
              "      <td>342</td>\n",
              "    </tr>\n",
              "    <tr>\n",
              "      <th>40</th>\n",
              "      <td>in order</td>\n",
              "      <td>3.984757</td>\n",
              "      <td>498</td>\n",
              "    </tr>\n",
              "    <tr>\n",
              "      <th>82</th>\n",
              "      <td>each round</td>\n",
              "      <td>3.896305</td>\n",
              "      <td>268</td>\n",
              "    </tr>\n",
              "    <tr>\n",
              "      <th>75</th>\n",
              "      <td>the winner</td>\n",
              "      <td>3.869384</td>\n",
              "      <td>289</td>\n",
              "    </tr>\n",
              "    <tr>\n",
              "      <th>35</th>\n",
              "      <td>the role</td>\n",
              "      <td>3.822801</td>\n",
              "      <td>543</td>\n",
              "    </tr>\n",
              "    <tr>\n",
              "      <th>46</th>\n",
              "      <td>each turn</td>\n",
              "      <td>3.532042</td>\n",
              "      <td>454</td>\n",
              "    </tr>\n",
              "    <tr>\n",
              "      <th>42</th>\n",
              "      <td>order to</td>\n",
              "      <td>3.395838</td>\n",
              "      <td>487</td>\n",
              "    </tr>\n",
              "    <tr>\n",
              "      <th>79</th>\n",
              "      <td>type of</td>\n",
              "      <td>3.346337</td>\n",
              "      <td>276</td>\n",
              "    </tr>\n",
              "    <tr>\n",
              "      <th>30</th>\n",
              "      <td>board game</td>\n",
              "      <td>3.248689</td>\n",
              "      <td>552</td>\n",
              "    </tr>\n",
              "    <tr>\n",
              "      <th>2</th>\n",
              "      <td>each player</td>\n",
              "      <td>3.196113</td>\n",
              "      <td>1492</td>\n",
              "    </tr>\n",
              "    <tr>\n",
              "      <th>48</th>\n",
              "      <td>player must</td>\n",
              "      <td>3.174193</td>\n",
              "      <td>443</td>\n",
              "    </tr>\n",
              "    <tr>\n",
              "      <th>21</th>\n",
              "      <td>other player</td>\n",
              "      <td>3.172704</td>\n",
              "      <td>647</td>\n",
              "    </tr>\n",
              "    <tr>\n",
              "      <th>19</th>\n",
              "      <td>end of</td>\n",
              "      <td>3.107346</td>\n",
              "      <td>654</td>\n",
              "    </tr>\n",
              "    <tr>\n",
              "      <th>23</th>\n",
              "      <td>player take</td>\n",
              "      <td>3.019533</td>\n",
              "      <td>624</td>\n",
              "    </tr>\n",
              "    <tr>\n",
              "      <th>50</th>\n",
              "      <td>player who</td>\n",
              "      <td>2.973783</td>\n",
              "      <td>400</td>\n",
              "    </tr>\n",
              "    <tr>\n",
              "      <th>68</th>\n",
              "      <td>a unique</td>\n",
              "      <td>2.908186</td>\n",
              "      <td>312</td>\n",
              "    </tr>\n",
              "    <tr>\n",
              "      <th>95</th>\n",
              "      <td>rule for</td>\n",
              "      <td>2.905871</td>\n",
              "      <td>230</td>\n",
              "    </tr>\n",
              "    <tr>\n",
              "      <th>77</th>\n",
              "      <td>game end</td>\n",
              "      <td>2.776835</td>\n",
              "      <td>284</td>\n",
              "    </tr>\n",
              "    <tr>\n",
              "      <th>96</th>\n",
              "      <td>the table</td>\n",
              "      <td>2.764432</td>\n",
              "      <td>229</td>\n",
              "    </tr>\n",
              "    <tr>\n",
              "      <th>80</th>\n",
              "      <td>first player</td>\n",
              "      <td>2.687297</td>\n",
              "      <td>274</td>\n",
              "    </tr>\n",
              "    <tr>\n",
              "      <th>83</th>\n",
              "      <td>action card</td>\n",
              "      <td>2.666105</td>\n",
              "      <td>259</td>\n",
              "    </tr>\n",
              "    <tr>\n",
              "      <th>74</th>\n",
              "      <td>way to</td>\n",
              "      <td>2.592155</td>\n",
              "      <td>289</td>\n",
              "    </tr>\n",
              "    <tr>\n",
              "      <th>63</th>\n",
              "      <td>game board</td>\n",
              "      <td>2.583023</td>\n",
              "      <td>329</td>\n",
              "    </tr>\n",
              "    <tr>\n",
              "      <th>9</th>\n",
              "      <td>the end</td>\n",
              "      <td>2.541180</td>\n",
              "      <td>756</td>\n",
              "    </tr>\n",
              "    <tr>\n",
              "      <th>37</th>\n",
              "      <td>this game</td>\n",
              "      <td>2.521793</td>\n",
              "      <td>506</td>\n",
              "    </tr>\n",
              "    <tr>\n",
              "      <th>22</th>\n",
              "      <td>player can</td>\n",
              "      <td>2.352322</td>\n",
              "      <td>646</td>\n",
              "    </tr>\n",
              "    <tr>\n",
              "      <th>94</th>\n",
              "      <td>a number</td>\n",
              "      <td>2.341560</td>\n",
              "      <td>233</td>\n",
              "    </tr>\n",
              "    <tr>\n",
              "      <th>65</th>\n",
              "      <td>control of</td>\n",
              "      <td>2.307707</td>\n",
              "      <td>325</td>\n",
              "    </tr>\n",
              "    <tr>\n",
              "      <th>84</th>\n",
              "      <td>the box</td>\n",
              "      <td>2.245994</td>\n",
              "      <td>258</td>\n",
              "    </tr>\n",
              "    <tr>\n",
              "      <th>86</th>\n",
              "      <td>two player</td>\n",
              "      <td>2.245551</td>\n",
              "      <td>245</td>\n",
              "    </tr>\n",
              "    <tr>\n",
              "      <th>38</th>\n",
              "      <td>card from</td>\n",
              "      <td>2.232118</td>\n",
              "      <td>500</td>\n",
              "    </tr>\n",
              "    <tr>\n",
              "      <th>36</th>\n",
              "      <td>player will</td>\n",
              "      <td>2.197664</td>\n",
              "      <td>536</td>\n",
              "    </tr>\n",
              "    <tr>\n",
              "      <th>47</th>\n",
              "      <td>set of</td>\n",
              "      <td>2.187078</td>\n",
              "      <td>446</td>\n",
              "    </tr>\n",
              "    <tr>\n",
              "      <th>20</th>\n",
              "      <td>the world</td>\n",
              "      <td>2.171258</td>\n",
              "      <td>652</td>\n",
              "    </tr>\n",
              "    <tr>\n",
              "      <th>0</th>\n",
              "      <td>the game</td>\n",
              "      <td>2.122865</td>\n",
              "      <td>4902</td>\n",
              "    </tr>\n",
              "  </tbody>\n",
              "</table>\n",
              "</div>"
            ],
            "text/plain": [
              "               bigram       pmi  frequency\n",
              "4             rsquo s  8.795744       1064\n",
              "76         consist of  7.150485        288\n",
              "85          depend on  7.052704        252\n",
              "41   description from  6.813566        492\n",
              "89  mdash description  6.786246        240\n",
              "49      victory point  5.930114        423\n",
              "52         attempt to  5.589324        358\n",
              "6              try to  5.497567        932\n",
              "24            base on  5.133301        619\n",
              "18      your opponent  4.920667        658\n",
              "33            role of  4.691911        548\n",
              "69            want to  4.581830        301\n",
              "25      the publisher  4.439175        614\n",
              "13            need to  4.285230        734\n",
              "12          number of  4.109545        742\n",
              "58            part of  4.022970        342\n",
              "40           in order  3.984757        498\n",
              "82         each round  3.896305        268\n",
              "75         the winner  3.869384        289\n",
              "35           the role  3.822801        543\n",
              "46          each turn  3.532042        454\n",
              "42           order to  3.395838        487\n",
              "79            type of  3.346337        276\n",
              "30         board game  3.248689        552\n",
              "2         each player  3.196113       1492\n",
              "48        player must  3.174193        443\n",
              "21       other player  3.172704        647\n",
              "19             end of  3.107346        654\n",
              "23        player take  3.019533        624\n",
              "50         player who  2.973783        400\n",
              "68           a unique  2.908186        312\n",
              "95           rule for  2.905871        230\n",
              "77           game end  2.776835        284\n",
              "96          the table  2.764432        229\n",
              "80       first player  2.687297        274\n",
              "83        action card  2.666105        259\n",
              "74             way to  2.592155        289\n",
              "63         game board  2.583023        329\n",
              "9             the end  2.541180        756\n",
              "37          this game  2.521793        506\n",
              "22         player can  2.352322        646\n",
              "94           a number  2.341560        233\n",
              "65         control of  2.307707        325\n",
              "84            the box  2.245994        258\n",
              "86         two player  2.245551        245\n",
              "38          card from  2.232118        500\n",
              "36        player will  2.197664        536\n",
              "47             set of  2.187078        446\n",
              "20          the world  2.171258        652\n",
              "0            the game  2.122865       4902"
            ]
          },
          "metadata": {},
          "execution_count": 147
        }
      ]
    },
    {
      "cell_type": "code",
      "metadata": {
        "id": "SFv_svnIwjj2"
      },
      "source": [
        "select = fre_most.drop([4, 76, 85, 41, 89, 52, 6, 24, 69, 13, 12, 58, 40, 42, 79, 48, 23, 50, 68, 95, 74, 22, 94, 65, 38, 36, 47], axis = 0)\n",
        "select_bi = select[\"bigram\"]"
      ],
      "execution_count": 150,
      "outputs": []
    },
    {
      "cell_type": "code",
      "metadata": {
        "id": "V9rlBABwA85o"
      },
      "source": [
        "bi_dict = defaultdict(list)\n",
        "for bi in select_bi:\n",
        "  f,s = bi.split()\n",
        "  bi_dict[f].append(s)"
      ],
      "execution_count": 152,
      "outputs": []
    },
    {
      "cell_type": "code",
      "metadata": {
        "id": "yr2X3xY0o4W8"
      },
      "source": [
        "sent_c = []\n",
        "for sent in lemma_list: \n",
        "  if len(sent) > 1:\n",
        "    sent_list = []\n",
        "    for i in range(len(sent)-1):\n",
        "      if sent[i] in list(bi_dict.keys()):\n",
        "        if sent[i+1] in bi_dict[sent[i]]:\n",
        "          bi = sent[i] + \" \" + sent[i+1]\n",
        "          sent_list.append(bi)\n",
        "        else:\n",
        "          if sent[i] not in stopwords.words('english'):\n",
        "            sent_list.append(sent[i])  \n",
        "      else:\n",
        "        if sent[i] not in stopwords.words('english'):\n",
        "          sent_list.append(sent[i]) \n",
        "    sent_c.append(sent_list)\n",
        "  elif len(sent) == 1:\n",
        "    if sent[0] not in stopwords.words('english'):\n",
        "      sent_c.append(sent)\n",
        "    else:\n",
        "      sent_c.append([])\n",
        "  else:\n",
        "    sent_c.append([])"
      ],
      "execution_count": 153,
      "outputs": []
    },
    {
      "cell_type": "code",
      "metadata": {
        "id": "8Fa1iWxxBLKR"
      },
      "source": [
        "sent1 = [] # game level\n",
        "for c in sentences:\n",
        "  ll = []\n",
        "  for s in c:\n",
        "    tokens = word_tokenize(s)\n",
        "    words = [word for word in tokens if word.isalpha()]\n",
        "    words = [word.lower() for word in words]\n",
        "    words = [word for word in words if word != 'i']\n",
        "    ll.append(words)\n",
        "  sent1.append(ll)"
      ],
      "execution_count": 154,
      "outputs": []
    },
    {
      "cell_type": "code",
      "metadata": {
        "id": "qUIBCptqBLKZ"
      },
      "source": [
        "num_com = len(sentences)"
      ],
      "execution_count": 155,
      "outputs": []
    },
    {
      "cell_type": "code",
      "metadata": {
        "id": "H4XPaETwBLKa"
      },
      "source": [
        "com_sent = [] # basic list is sentence\n",
        "count = 0\n",
        "for i in range(num_com):\n",
        "  end = count + len(sent1[i])\n",
        "  cc = sent_c[count:end]\n",
        "  com_sent.append(cc)\n",
        "  count = end"
      ],
      "execution_count": 156,
      "outputs": []
    },
    {
      "cell_type": "code",
      "metadata": {
        "id": "G9Dal12I_Awx"
      },
      "source": [
        "comment = [] # basic list is comment\n",
        "for com in com_sent:\n",
        "  c = []\n",
        "  for sent in com:\n",
        "    for wor in sent:\n",
        "      c.append(wor)\n",
        "  comment.append(c)"
      ],
      "execution_count": 157,
      "outputs": []
    },
    {
      "cell_type": "code",
      "metadata": {
        "id": "9K60QB34BLKb"
      },
      "source": [
        "noun = []\n",
        "for com in comment:\n",
        "  c = []\n",
        "  for wor in com:\n",
        "    if wor in select_bi:\n",
        "      c.append(wor)\n",
        "    else:\n",
        "      w, t = nltk.pos_tag([wor])[0]\n",
        "      if t[0] == \"N\":\n",
        "        c.append(wor)\n",
        "  noun.append(c)"
      ],
      "execution_count": 158,
      "outputs": []
    },
    {
      "cell_type": "code",
      "metadata": {
        "id": "T7PUWW_9BLKf"
      },
      "source": [
        "words = [wor for c in noun for wor in c]"
      ],
      "execution_count": 159,
      "outputs": []
    },
    {
      "cell_type": "code",
      "metadata": {
        "id": "GtFKdhqZBLKg"
      },
      "source": [
        "v_n = [n for n,c in Counter(words).most_common(500)]"
      ],
      "execution_count": 160,
      "outputs": []
    },
    {
      "cell_type": "code",
      "metadata": {
        "id": "vLtHZekXBLKh",
        "colab": {
          "base_uri": "https://localhost:8080/"
        },
        "outputId": "482e6d01-f0e1-4cb5-b4c0-7c639a15eaa1"
      },
      "source": [
        "from sklearn.feature_extraction.text import TfidfVectorizer\n",
        "df = pd.DataFrame({\"text\":comment})\n",
        "df['text'] = df['text'].apply(lambda x: ' '.join([word for word in x]))\n",
        "vectorizer = TfidfVectorizer(vocabulary=v_n, ngram_range=(1,2))\n",
        "TF_IDF = vectorizer.fit_transform(df['text'].values)\n",
        "TF_IDF_array = TF_IDF.toarray()"
      ],
      "execution_count": 161,
      "outputs": [
        {
          "output_type": "stream",
          "name": "stdout",
          "text": [
            "Requirement already satisfied: sklearn in /usr/local/lib/python3.7/dist-packages (0.0)\n",
            "Requirement already satisfied: scikit-learn in /usr/local/lib/python3.7/dist-packages (from sklearn) (0.22.2.post1)\n",
            "Requirement already satisfied: scipy>=0.17.0 in /usr/local/lib/python3.7/dist-packages (from scikit-learn->sklearn) (1.4.1)\n",
            "Requirement already satisfied: joblib>=0.11 in /usr/local/lib/python3.7/dist-packages (from scikit-learn->sklearn) (1.0.1)\n",
            "Requirement already satisfied: numpy>=1.11.0 in /usr/local/lib/python3.7/dist-packages (from scikit-learn->sklearn) (1.19.5)\n"
          ]
        }
      ]
    },
    {
      "cell_type": "code",
      "metadata": {
        "id": "w02t5ORmBLKm"
      },
      "source": [
        "sum = np.sum(TF_IDF_array,axis=0).tolist()"
      ],
      "execution_count": 162,
      "outputs": []
    },
    {
      "cell_type": "code",
      "metadata": {
        "colab": {
          "base_uri": "https://localhost:8080/",
          "height": 662
        },
        "id": "8f8FgNt5BLKn",
        "outputId": "7b87d567-9db6-4185-b546-59052384413e"
      },
      "source": [
        "rank = pd.DataFrame({\"feature\":vectorizer.get_feature_names(),\"index\": sum}).sort_values(\"index\", ascending=False)\n",
        "rank.head(20)"
      ],
      "execution_count": 163,
      "outputs": [
        {
          "output_type": "execute_result",
          "data": {
            "text/html": [
              "<div>\n",
              "<style scoped>\n",
              "    .dataframe tbody tr th:only-of-type {\n",
              "        vertical-align: middle;\n",
              "    }\n",
              "\n",
              "    .dataframe tbody tr th {\n",
              "        vertical-align: top;\n",
              "    }\n",
              "\n",
              "    .dataframe thead th {\n",
              "        text-align: right;\n",
              "    }\n",
              "</style>\n",
              "<table border=\"1\" class=\"dataframe\">\n",
              "  <thead>\n",
              "    <tr style=\"text-align: right;\">\n",
              "      <th></th>\n",
              "      <th>feature</th>\n",
              "      <th>index</th>\n",
              "    </tr>\n",
              "  </thead>\n",
              "  <tbody>\n",
              "    <tr>\n",
              "      <th>1</th>\n",
              "      <td>game</td>\n",
              "      <td>590.878288</td>\n",
              "    </tr>\n",
              "    <tr>\n",
              "      <th>0</th>\n",
              "      <td>player</td>\n",
              "      <td>523.143468</td>\n",
              "    </tr>\n",
              "    <tr>\n",
              "      <th>2</th>\n",
              "      <td>card</td>\n",
              "      <td>388.984747</td>\n",
              "    </tr>\n",
              "    <tr>\n",
              "      <th>4</th>\n",
              "      <td>quot</td>\n",
              "      <td>279.228960</td>\n",
              "    </tr>\n",
              "    <tr>\n",
              "      <th>5</th>\n",
              "      <td>play</td>\n",
              "      <td>209.589576</td>\n",
              "    </tr>\n",
              "    <tr>\n",
              "      <th>3</th>\n",
              "      <td>the game</td>\n",
              "      <td>208.471169</td>\n",
              "    </tr>\n",
              "    <tr>\n",
              "      <th>6</th>\n",
              "      <td>use</td>\n",
              "      <td>163.147215</td>\n",
              "    </tr>\n",
              "    <tr>\n",
              "      <th>24</th>\n",
              "      <td>world</td>\n",
              "      <td>156.243143</td>\n",
              "    </tr>\n",
              "    <tr>\n",
              "      <th>65</th>\n",
              "      <td>end</td>\n",
              "      <td>149.499274</td>\n",
              "    </tr>\n",
              "    <tr>\n",
              "      <th>7</th>\n",
              "      <td>turn</td>\n",
              "      <td>146.860133</td>\n",
              "    </tr>\n",
              "    <tr>\n",
              "      <th>26</th>\n",
              "      <td>board</td>\n",
              "      <td>146.686884</td>\n",
              "    </tr>\n",
              "    <tr>\n",
              "      <th>9</th>\n",
              "      <td>point</td>\n",
              "      <td>144.052925</td>\n",
              "    </tr>\n",
              "    <tr>\n",
              "      <th>8</th>\n",
              "      <td>battle</td>\n",
              "      <td>139.238275</td>\n",
              "    </tr>\n",
              "    <tr>\n",
              "      <th>34</th>\n",
              "      <td>opponent</td>\n",
              "      <td>133.642961</td>\n",
              "    </tr>\n",
              "    <tr>\n",
              "      <th>11</th>\n",
              "      <td>character</td>\n",
              "      <td>132.895620</td>\n",
              "    </tr>\n",
              "    <tr>\n",
              "      <th>15</th>\n",
              "      <td>hero</td>\n",
              "      <td>126.387128</td>\n",
              "    </tr>\n",
              "    <tr>\n",
              "      <th>10</th>\n",
              "      <td>set</td>\n",
              "      <td>124.646511</td>\n",
              "    </tr>\n",
              "    <tr>\n",
              "      <th>14</th>\n",
              "      <td>rule</td>\n",
              "      <td>122.359735</td>\n",
              "    </tr>\n",
              "    <tr>\n",
              "      <th>19</th>\n",
              "      <td>war</td>\n",
              "      <td>118.932855</td>\n",
              "    </tr>\n",
              "    <tr>\n",
              "      <th>16</th>\n",
              "      <td>action</td>\n",
              "      <td>116.085934</td>\n",
              "    </tr>\n",
              "  </tbody>\n",
              "</table>\n",
              "</div>"
            ],
            "text/plain": [
              "      feature       index\n",
              "1        game  590.878288\n",
              "0      player  523.143468\n",
              "2        card  388.984747\n",
              "4        quot  279.228960\n",
              "5        play  209.589576\n",
              "3    the game  208.471169\n",
              "6         use  163.147215\n",
              "24      world  156.243143\n",
              "65        end  149.499274\n",
              "7        turn  146.860133\n",
              "26      board  146.686884\n",
              "9       point  144.052925\n",
              "8      battle  139.238275\n",
              "34   opponent  133.642961\n",
              "11  character  132.895620\n",
              "15       hero  126.387128\n",
              "10        set  124.646511\n",
              "14       rule  122.359735\n",
              "19        war  118.932855\n",
              "16     action  116.085934"
            ]
          },
          "metadata": {},
          "execution_count": 163
        }
      ]
    },
    {
      "cell_type": "code",
      "metadata": {
        "id": "OKexH9TmBLKo"
      },
      "source": [
        "aspects = rank.head(20)[\"feature\"]"
      ],
      "execution_count": 169,
      "outputs": []
    },
    {
      "cell_type": "code",
      "metadata": {
        "id": "2q5Gt6vBJnaG",
        "colab": {
          "base_uri": "https://localhost:8080/"
        },
        "outputId": "28878261-76d9-4e2f-9d36-49f00670e594"
      },
      "source": [
        "aspects"
      ],
      "execution_count": 171,
      "outputs": [
        {
          "output_type": "execute_result",
          "data": {
            "text/plain": [
              "1          game\n",
              "0        player\n",
              "2          card\n",
              "4          quot\n",
              "5          play\n",
              "3      the game\n",
              "6           use\n",
              "24        world\n",
              "65          end\n",
              "7          turn\n",
              "26        board\n",
              "9         point\n",
              "8        battle\n",
              "34     opponent\n",
              "11    character\n",
              "15         hero\n",
              "10          set\n",
              "14         rule\n",
              "19          war\n",
              "16       action\n",
              "Name: feature, dtype: object"
            ]
          },
          "metadata": {},
          "execution_count": 171
        }
      ]
    },
    {
      "cell_type": "markdown",
      "metadata": {
        "id": "LQcin6NEC9F-"
      },
      "source": [
        "## 2.3 Aspect Categorization"
      ]
    },
    {
      "cell_type": "code",
      "metadata": {
        "colab": {
          "base_uri": "https://localhost:8080/"
        },
        "id": "oRi6N8PBBBtN",
        "outputId": "7537af05-2ce7-41d1-bcdc-27a12b4127f1"
      },
      "source": [
        "!pip install gensim\n",
        "import gensim\n",
        "from gensim.models import Word2Vec"
      ],
      "execution_count": 173,
      "outputs": [
        {
          "output_type": "stream",
          "name": "stdout",
          "text": [
            "Requirement already satisfied: gensim in /usr/local/lib/python3.7/dist-packages (3.6.0)\n",
            "Requirement already satisfied: numpy>=1.11.3 in /usr/local/lib/python3.7/dist-packages (from gensim) (1.19.5)\n",
            "Requirement already satisfied: six>=1.5.0 in /usr/local/lib/python3.7/dist-packages (from gensim) (1.15.0)\n",
            "Requirement already satisfied: smart-open>=1.2.1 in /usr/local/lib/python3.7/dist-packages (from gensim) (5.2.1)\n",
            "Requirement already satisfied: scipy>=0.18.1 in /usr/local/lib/python3.7/dist-packages (from gensim) (1.4.1)\n"
          ]
        }
      ]
    },
    {
      "cell_type": "code",
      "metadata": {
        "id": "0t0vc5DbDSmc"
      },
      "source": [
        "www = [word for item in sent_c for word in item]"
      ],
      "execution_count": 174,
      "outputs": []
    },
    {
      "cell_type": "code",
      "metadata": {
        "colab": {
          "base_uri": "https://localhost:8080/"
        },
        "id": "jbyV_-hKDapT",
        "outputId": "68512716-2415-4262-f47c-ce3429e61e83"
      },
      "source": [
        "len(Counter(www).keys())"
      ],
      "execution_count": 175,
      "outputs": [
        {
          "output_type": "execute_result",
          "data": {
            "text/plain": [
              "25044"
            ]
          },
          "metadata": {},
          "execution_count": 175
        }
      ]
    },
    {
      "cell_type": "code",
      "metadata": {
        "id": "3Ff4CI5P4GFU"
      },
      "source": [
        "def skip(sent, n=3, s=2):\n",
        "  k_grams = []\n",
        "  for i in range(len(sent)):\n",
        "    for z in range(s):\n",
        "      seq = [sent[i]] + sent[i+z+1:i+z+n]\n",
        "      if len(seq) == n and seq not in k_grams:\n",
        "        k_grams.append(list(seq))\n",
        "  return k_grams  "
      ],
      "execution_count": 176,
      "outputs": []
    },
    {
      "cell_type": "code",
      "metadata": {
        "id": "yDpjtQgA52Ff"
      },
      "source": [
        "sent_c1 = [sent for sent in sent_c if sent != []]"
      ],
      "execution_count": 177,
      "outputs": []
    },
    {
      "cell_type": "code",
      "metadata": {
        "id": "btn1-q2Yz6wP"
      },
      "source": [
        "sequences = []\n",
        "for i in sent_c1:\n",
        "  l = skip(i)\n",
        "  sequences.append(l)"
      ],
      "execution_count": 178,
      "outputs": []
    },
    {
      "cell_type": "code",
      "metadata": {
        "id": "yFZmZJC25Z23"
      },
      "source": [
        "sequences = [sent for sent in sequences if sent != []]\n",
        "seq = [s for sent in sequences for s in sent]"
      ],
      "execution_count": 179,
      "outputs": []
    },
    {
      "cell_type": "code",
      "metadata": {
        "colab": {
          "base_uri": "https://localhost:8080/"
        },
        "id": "Hl82yRzg6Azx",
        "outputId": "55b47a52-4741-4cb1-9c75-b90b2923d97d"
      },
      "source": [
        "seq[:10]"
      ],
      "execution_count": 180,
      "outputs": [
        {
          "output_type": "execute_result",
          "data": {
            "text/plain": [
              "[['gloomhaven', 'game', 'tactical'],\n",
              " ['gloomhaven', 'tactical', 'combat'],\n",
              " ['game', 'tactical', 'combat'],\n",
              " ['game', 'combat', 'persistent'],\n",
              " ['tactical', 'combat', 'persistent'],\n",
              " ['tactical', 'persistent', 'world'],\n",
              " ['combat', 'persistent', 'world'],\n",
              " ['combat', 'world', 'shift'],\n",
              " ['persistent', 'world', 'shift'],\n",
              " ['player', 'take', 'the role']]"
            ]
          },
          "metadata": {},
          "execution_count": 180
        }
      ]
    },
    {
      "cell_type": "code",
      "metadata": {
        "id": "spi8aEbQ-1y1"
      },
      "source": [
        "model = Word2Vec(seq, min_count=50)"
      ],
      "execution_count": 181,
      "outputs": []
    },
    {
      "cell_type": "code",
      "metadata": {
        "colab": {
          "base_uri": "https://localhost:8080/"
        },
        "id": "ddcv_yd7z66l",
        "outputId": "5e62325e-4c68-4e6f-e761-78e51aa254ca"
      },
      "source": [
        "word = 'game'\n",
        "model.wv.most_similar(positive=word)"
      ],
      "execution_count": 182,
      "outputs": [
        {
          "output_type": "execute_result",
          "data": {
            "text/plain": [
              "[('portable', 0.5151107311248779),\n",
              " ('gameplay', 0.5042924880981445),\n",
              " ('format', 0.5030001997947693),\n",
              " ('layer', 0.49620869755744934),\n",
              " ('expandable', 0.4899037480354309),\n",
              " ('soundtrack', 0.48579099774360657),\n",
              " ('basically', 0.4826326370239258),\n",
              " ('humorous', 0.48206937313079834),\n",
              " ('cd', 0.4803602993488312),\n",
              " ('meaning', 0.4788750112056732)]"
            ]
          },
          "metadata": {},
          "execution_count": 182
        }
      ]
    },
    {
      "cell_type": "code",
      "metadata": {
        "id": "JKa3F2T9wmMk"
      },
      "source": [
        "aspect_c = defaultdict(list)\n",
        "for i in aspects:\n",
        "  similar = model.wv.most_similar(positive=i)\n",
        "  for w, s in similar:\n",
        "    aspect_c[i].append(w)"
      ],
      "execution_count": 183,
      "outputs": []
    },
    {
      "cell_type": "code",
      "metadata": {
        "id": "YvBxJ11FJSTm"
      },
      "source": [
        "category = dict(aspect_c)"
      ],
      "execution_count": 194,
      "outputs": []
    },
    {
      "cell_type": "code",
      "metadata": {
        "id": "oeg6Pj2kJSTo"
      },
      "source": [
        "for (a, s) in category.items():\n",
        "  for wor in s:\n",
        "    w,t = nltk.pos_tag([wor])[0]\n",
        "    if t[0] != 'N':\n",
        "      category[a].remove(wor)"
      ],
      "execution_count": 195,
      "outputs": []
    },
    {
      "cell_type": "code",
      "metadata": {
        "id": "tHUlpaYsMvXs"
      },
      "source": [
        "category = {'action': ['movement', 'account', 'perform', 'execute', 'impulse', 'activation', 'extent', 'planning', 'program', 'manoeuvre'], \n",
        "            'battle': ['combat', 'confrontation', 'duel', 'gunfight', 'clash', 'fight', 'malifaux', 'conflict', 'dogfight'],\n",
        "            'board': ['flick', 'hexagonal', 'game board', 'interlock', 'overlay', 'modular', 'blank', 'tall', 'disc', 'square'],\n",
        "            'card': ['drawn', 'played', 'pair', 'refill', 'letter', 'icon', 'discard', 'impulse'],\n",
        "            'character': ['hero', 'wrestler', 'trait', 'fighter', 'attribute', 'battleboard', 'class', 'signature', 'roster'],\n",
        "            'end': ['end of', 'game end', 'continue', 'victor', 'feed', 'remainder', 'exhaust', 'vps', 'finish'],\n",
        "            'game': ['gameplay', 'format', 'layer', 'soundtrack', 'humorous', 'cd', 'meaning', 'the game', 'this game', 'meaning', 'proceeds', 'battleboard', 'additionally', 'fifth', 'exhibition'],\n",
        "            'hero': ['adventurer', 'character', 'villain', 'roster', 'henchman', 'survivor', 'minion', 'gladiator', 'posse','warrior'],\n",
        "            'opponent': ['your opponent', 'outwit', 'opposition', 'thwart', 'outmaneuver', 'authority', 'attacker', 'jojo'],\n",
        "            'play': ['played', 'draft', 'recommend', 'multiplayer', 'dealt', 'reshuffle', 'accommodate'],\n",
        "            'player': ['loser', 'clockwise', 'jojo', 'coach', 'gangster', 'challenger', 'process', 'proceed'],\n",
        "            'point': ['vp', 'vps', 'bonus','victory point', 'prestige', 'majority', 'tally'],\n",
        "            'quot': ['bang', 'x', 'stuff', 'loop', 'sturdy', 'yes', 'cabo', 'erase', 'undo', 'write'],\n",
        "            'rule': ['beginner', 'rulebook', 'ruleset', 'explain', 'comprehensive', 'format', 'diceland', 'hardback', 'introduction'],\n",
        "            'set': ['pack', 'infinity', 'warhammer', 'battleground', 'content', 'jedi', 'package'],\n",
        "            'turn': ['clockwise', 'each turn', 'meter', 'cell', 'month', 'proceed', 'repeat', 'forfeit'],\n",
        "            'use': ['allocate', 'combine', 'drafting', 'regulate', 'activate', 'assortment', 'interact','manipulation'],\n",
        "            'war': ['empires', 'pacific','confrontation', 'revolution', 'europe', 'george', 'savage'],\n",
        "            'world': ['deeply', 'reshape', 'horizon', 'the world', 'realm', 'greece', 'universe', 'history','reality']}"
      ],
      "execution_count": 201,
      "outputs": []
    },
    {
      "cell_type": "code",
      "metadata": {
        "colab": {
          "base_uri": "https://localhost:8080/"
        },
        "id": "7TaTQfUbIHnR",
        "outputId": "444acf72-a0c8-44e1-a696-5cead9ac0b65"
      },
      "source": [
        "full['stats'][0].split(' ')"
      ],
      "execution_count": 207,
      "outputs": [
        {
          "output_type": "execute_result",
          "data": {
            "text/plain": [
              "[\"[['45618'\",\n",
              " \"'8.76399'\",\n",
              " \"'8.52908'\",\n",
              " \"'1'\",\n",
              " \"'1.63266'\",\n",
              " \"'0'\",\n",
              " \"'73966'\",\n",
              " \"'572'\",\n",
              " \"'1389'\\n\",\n",
              " '',\n",
              " \"'17114'\",\n",
              " \"'8197'\",\n",
              " \"'1976'\",\n",
              " \"'3.8664']]\"]"
            ]
          },
          "metadata": {},
          "execution_count": 207
        }
      ]
    }
  ]
}